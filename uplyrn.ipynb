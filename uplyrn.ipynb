{
 "cells": [
  {
   "cell_type": "code",
   "execution_count": 5,
   "metadata": {},
   "outputs": [],
   "source": [
    "import pandas  as pd\n",
    "import numpy as np\n",
    "import neattext.functions as nfx\n",
    "from sklearn.feature_extraction.text import CountVectorizer,TfidfVectorizer\n",
    "from sklearn.metrics.pairwise import cosine_similarity,linear_kernel\n",
    "import nltk\n",
    "from nltk.corpus import stopwords\n",
    "from nltk.tokenize import word_tokenize"
   ]
  },
  {
   "cell_type": "code",
   "execution_count": 6,
   "metadata": {},
   "outputs": [
    {
     "name": "stderr",
     "output_type": "stream",
     "text": [
      "[nltk_data] Error loading punkt: <urlopen error [Errno 11001]\n",
      "[nltk_data]     getaddrinfo failed>\n",
      "[nltk_data] Error loading stopwords: <urlopen error [Errno 11001]\n",
      "[nltk_data]     getaddrinfo failed>\n"
     ]
    },
    {
     "data": {
      "text/plain": [
       "False"
      ]
     },
     "execution_count": 6,
     "metadata": {},
     "output_type": "execute_result"
    }
   ],
   "source": [
    "nltk.download('punkt')\n",
    "nltk.download('stopwords')\n"
   ]
  },
  {
   "cell_type": "code",
   "execution_count": 7,
   "metadata": {},
   "outputs": [],
   "source": [
    "df=pd.read_csv(\"published_courses_update.csv\")"
   ]
  },
  {
   "cell_type": "code",
   "execution_count": 8,
   "metadata": {},
   "outputs": [
    {
     "data": {
      "text/html": [
       "<div>\n",
       "<style scoped>\n",
       "    .dataframe tbody tr th:only-of-type {\n",
       "        vertical-align: middle;\n",
       "    }\n",
       "\n",
       "    .dataframe tbody tr th {\n",
       "        vertical-align: top;\n",
       "    }\n",
       "\n",
       "    .dataframe thead th {\n",
       "        text-align: right;\n",
       "    }\n",
       "</style>\n",
       "<table border=\"1\" class=\"dataframe\">\n",
       "  <thead>\n",
       "    <tr style=\"text-align: right;\">\n",
       "      <th></th>\n",
       "      <th>Course Title</th>\n",
       "      <th>Course Description</th>\n",
       "      <th>Who this course is for</th>\n",
       "      <th>Author</th>\n",
       "      <th>Skill Level</th>\n",
       "      <th>Language</th>\n",
       "      <th>takeaway</th>\n",
       "      <th>Category</th>\n",
       "      <th>Duration</th>\n",
       "      <th>url</th>\n",
       "    </tr>\n",
       "  </thead>\n",
       "  <tbody>\n",
       "    <tr>\n",
       "      <th>0</th>\n",
       "      <td>ActiveCampaign Email Marketing &amp; Automation Co...</td>\n",
       "      <td>After 7 years of testing email marketing servi...</td>\n",
       "      <td>NaN</td>\n",
       "      <td>Jerry Banfield</td>\n",
       "      <td>NaN</td>\n",
       "      <td>NaN</td>\n",
       "      <td>How to use ActiveCampaign for your email marke...</td>\n",
       "      <td>Marketing,Digital Marketing,Content Marketing</td>\n",
       "      <td>121.0</td>\n",
       "      <td>https://uplyrn.com/activecampaign-email-market...</td>\n",
       "    </tr>\n",
       "    <tr>\n",
       "      <th>1</th>\n",
       "      <td>The Complete Wireshark Course: Go from Beginne...</td>\n",
       "      <td>Wireshark is much easier to learn when you tak...</td>\n",
       "      <td>NaN</td>\n",
       "      <td>Jerry Banfield</td>\n",
       "      <td>Beginner</td>\n",
       "      <td>English</td>\n",
       "      <td>NaN</td>\n",
       "      <td>Technology,Software Testing &amp; Engineering,Netw...</td>\n",
       "      <td>275.0</td>\n",
       "      <td>https://uplyrn.com/the-complete-wireshark-cour...</td>\n",
       "    </tr>\n",
       "    <tr>\n",
       "      <th>2</th>\n",
       "      <td>The Complete YouTube Course: Beginner to Advanced</td>\n",
       "      <td>If you want to be successful on YouTube, you m...</td>\n",
       "      <td>NaN</td>\n",
       "      <td>Jerry Banfield</td>\n",
       "      <td>Appropriate for all</td>\n",
       "      <td>English</td>\n",
       "      <td>NaN</td>\n",
       "      <td>Marketing,Digital Marketing,Social Media Marke...</td>\n",
       "      <td>283.0</td>\n",
       "      <td>https://uplyrn.com/the-complete-youtube-course...</td>\n",
       "    </tr>\n",
       "    <tr>\n",
       "      <th>3</th>\n",
       "      <td>The MATLAB Course for Beginners</td>\n",
       "      <td>MATLAB&amp;nbsp;is much easier to learn when you c...</td>\n",
       "      <td>NaN</td>\n",
       "      <td>Jerry Banfield</td>\n",
       "      <td>Beginner</td>\n",
       "      <td>English</td>\n",
       "      <td>NaN</td>\n",
       "      <td>Technology,Programming Languages,Database Desi...</td>\n",
       "      <td>258.0</td>\n",
       "      <td>https://uplyrn.com/the-matlab-course-for-begin...</td>\n",
       "    </tr>\n",
       "    <tr>\n",
       "      <th>4</th>\n",
       "      <td>Save Time &amp; Scale Digital Marketing with Autom...</td>\n",
       "      <td>What if you could automatically publish new Yo...</td>\n",
       "      <td>Business ownersMarketers and bloggers who want...</td>\n",
       "      <td>Jerry Banfield</td>\n",
       "      <td>Appropriate for all</td>\n",
       "      <td>English</td>\n",
       "      <td>Build an advertising program that runs itself ...</td>\n",
       "      <td>Marketing,Digital Marketing,Social Media Marke...</td>\n",
       "      <td>190.0</td>\n",
       "      <td>https://uplyrn.com/save-time-scale-digital-mar...</td>\n",
       "    </tr>\n",
       "  </tbody>\n",
       "</table>\n",
       "</div>"
      ],
      "text/plain": [
       "                                        Course Title  \\\n",
       "0  ActiveCampaign Email Marketing & Automation Co...   \n",
       "1  The Complete Wireshark Course: Go from Beginne...   \n",
       "2  The Complete YouTube Course: Beginner to Advanced   \n",
       "3                    The MATLAB Course for Beginners   \n",
       "4  Save Time & Scale Digital Marketing with Autom...   \n",
       "\n",
       "                                  Course Description  \\\n",
       "0  After 7 years of testing email marketing servi...   \n",
       "1  Wireshark is much easier to learn when you tak...   \n",
       "2  If you want to be successful on YouTube, you m...   \n",
       "3  MATLAB&nbsp;is much easier to learn when you c...   \n",
       "4  What if you could automatically publish new Yo...   \n",
       "\n",
       "                              Who this course is for          Author  \\\n",
       "0                                                NaN  Jerry Banfield   \n",
       "1                                                NaN  Jerry Banfield   \n",
       "2                                                NaN  Jerry Banfield   \n",
       "3                                                NaN  Jerry Banfield   \n",
       "4  Business ownersMarketers and bloggers who want...  Jerry Banfield   \n",
       "\n",
       "           Skill Level Language  \\\n",
       "0                  NaN      NaN   \n",
       "1             Beginner  English   \n",
       "2  Appropriate for all  English   \n",
       "3             Beginner  English   \n",
       "4  Appropriate for all  English   \n",
       "\n",
       "                                            takeaway  \\\n",
       "0  How to use ActiveCampaign for your email marke...   \n",
       "1                                                NaN   \n",
       "2                                                NaN   \n",
       "3                                                NaN   \n",
       "4  Build an advertising program that runs itself ...   \n",
       "\n",
       "                                            Category  Duration  \\\n",
       "0      Marketing,Digital Marketing,Content Marketing     121.0   \n",
       "1  Technology,Software Testing & Engineering,Netw...     275.0   \n",
       "2  Marketing,Digital Marketing,Social Media Marke...     283.0   \n",
       "3  Technology,Programming Languages,Database Desi...     258.0   \n",
       "4  Marketing,Digital Marketing,Social Media Marke...     190.0   \n",
       "\n",
       "                                                 url  \n",
       "0  https://uplyrn.com/activecampaign-email-market...  \n",
       "1  https://uplyrn.com/the-complete-wireshark-cour...  \n",
       "2  https://uplyrn.com/the-complete-youtube-course...  \n",
       "3  https://uplyrn.com/the-matlab-course-for-begin...  \n",
       "4  https://uplyrn.com/save-time-scale-digital-mar...  "
      ]
     },
     "execution_count": 8,
     "metadata": {},
     "output_type": "execute_result"
    }
   ],
   "source": [
    "df.head()"
   ]
  },
  {
   "cell_type": "code",
   "execution_count": 9,
   "metadata": {},
   "outputs": [
    {
     "data": {
      "text/plain": [
       "array([nan, 'Beginner', 'Appropriate for all', 'Intermediate', 'Advanced'],\n",
       "      dtype=object)"
      ]
     },
     "execution_count": 9,
     "metadata": {},
     "output_type": "execute_result"
    }
   ],
   "source": [
    "df['Skill Level'].unique()"
   ]
  },
  {
   "cell_type": "code",
   "execution_count": 10,
   "metadata": {},
   "outputs": [
    {
     "data": {
      "text/plain": [
       "(923, 10)"
      ]
     },
     "execution_count": 10,
     "metadata": {},
     "output_type": "execute_result"
    }
   ],
   "source": [
    "df.shape"
   ]
  },
  {
   "cell_type": "code",
   "execution_count": 11,
   "metadata": {},
   "outputs": [
    {
     "data": {
      "text/html": [
       "<div>\n",
       "<style scoped>\n",
       "    .dataframe tbody tr th:only-of-type {\n",
       "        vertical-align: middle;\n",
       "    }\n",
       "\n",
       "    .dataframe tbody tr th {\n",
       "        vertical-align: top;\n",
       "    }\n",
       "\n",
       "    .dataframe thead th {\n",
       "        text-align: right;\n",
       "    }\n",
       "</style>\n",
       "<table border=\"1\" class=\"dataframe\">\n",
       "  <thead>\n",
       "    <tr style=\"text-align: right;\">\n",
       "      <th></th>\n",
       "      <th>Duration</th>\n",
       "    </tr>\n",
       "  </thead>\n",
       "  <tbody>\n",
       "    <tr>\n",
       "      <th>count</th>\n",
       "      <td>916.000000</td>\n",
       "    </tr>\n",
       "    <tr>\n",
       "      <th>mean</th>\n",
       "      <td>174.147380</td>\n",
       "    </tr>\n",
       "    <tr>\n",
       "      <th>std</th>\n",
       "      <td>271.596597</td>\n",
       "    </tr>\n",
       "    <tr>\n",
       "      <th>min</th>\n",
       "      <td>9.000000</td>\n",
       "    </tr>\n",
       "    <tr>\n",
       "      <th>25%</th>\n",
       "      <td>55.000000</td>\n",
       "    </tr>\n",
       "    <tr>\n",
       "      <th>50%</th>\n",
       "      <td>95.500000</td>\n",
       "    </tr>\n",
       "    <tr>\n",
       "      <th>75%</th>\n",
       "      <td>182.000000</td>\n",
       "    </tr>\n",
       "    <tr>\n",
       "      <th>max</th>\n",
       "      <td>3072.000000</td>\n",
       "    </tr>\n",
       "  </tbody>\n",
       "</table>\n",
       "</div>"
      ],
      "text/plain": [
       "          Duration\n",
       "count   916.000000\n",
       "mean    174.147380\n",
       "std     271.596597\n",
       "min       9.000000\n",
       "25%      55.000000\n",
       "50%      95.500000\n",
       "75%     182.000000\n",
       "max    3072.000000"
      ]
     },
     "execution_count": 11,
     "metadata": {},
     "output_type": "execute_result"
    }
   ],
   "source": [
    "df.describe()\n"
   ]
  },
  {
   "cell_type": "code",
   "execution_count": 12,
   "metadata": {},
   "outputs": [
    {
     "name": "stdout",
     "output_type": "stream",
     "text": [
      "<class 'pandas.core.frame.DataFrame'>\n",
      "RangeIndex: 923 entries, 0 to 922\n",
      "Data columns (total 10 columns):\n",
      " #   Column                  Non-Null Count  Dtype  \n",
      "---  ------                  --------------  -----  \n",
      " 0   Course Title            923 non-null    object \n",
      " 1   Course Description      923 non-null    object \n",
      " 2   Who this course is for  676 non-null    object \n",
      " 3   Author                  923 non-null    object \n",
      " 4   Skill Level             482 non-null    object \n",
      " 5   Language                482 non-null    object \n",
      " 6   takeaway                852 non-null    object \n",
      " 7   Category                921 non-null    object \n",
      " 8   Duration                916 non-null    float64\n",
      " 9   url                     923 non-null    object \n",
      "dtypes: float64(1), object(9)\n",
      "memory usage: 72.2+ KB\n"
     ]
    }
   ],
   "source": [
    "df.info()"
   ]
  },
  {
   "cell_type": "code",
   "execution_count": 13,
   "metadata": {},
   "outputs": [
    {
     "name": "stderr",
     "output_type": "stream",
     "text": [
      "C:\\Users\\Admin\\AppData\\Local\\Temp\\ipykernel_7368\\3144842865.py:1: FutureWarning: A value is trying to be set on a copy of a DataFrame or Series through chained assignment using an inplace method.\n",
      "The behavior will change in pandas 3.0. This inplace method will never work because the intermediate object on which we are setting values always behaves as a copy.\n",
      "\n",
      "For example, when doing 'df[col].method(value, inplace=True)', try using 'df.method({col: value}, inplace=True)' or df[col] = df[col].method(value) instead, to perform the operation inplace on the original object.\n",
      "\n",
      "\n",
      "  df['Language'].fillna('English',inplace=True)\n"
     ]
    }
   ],
   "source": [
    "df['Language'].fillna('English',inplace=True)"
   ]
  },
  {
   "cell_type": "code",
   "execution_count": 15,
   "metadata": {},
   "outputs": [
    {
     "data": {
      "text/plain": [
       "Course Title                0\n",
       "Course Description          0\n",
       "Who this course is for    247\n",
       "Author                      0\n",
       "Skill Level               441\n",
       "Language                    0\n",
       "takeaway                   71\n",
       "Category                    2\n",
       "Duration                    7\n",
       "url                         0\n",
       "dtype: int64"
      ]
     },
     "execution_count": 15,
     "metadata": {},
     "output_type": "execute_result"
    }
   ],
   "source": [
    "df.isnull().sum()"
   ]
  },
  {
   "cell_type": "code",
   "execution_count": 16,
   "metadata": {},
   "outputs": [
    {
     "data": {
      "text/html": [
       "<div>\n",
       "<style scoped>\n",
       "    .dataframe tbody tr th:only-of-type {\n",
       "        vertical-align: middle;\n",
       "    }\n",
       "\n",
       "    .dataframe tbody tr th {\n",
       "        vertical-align: top;\n",
       "    }\n",
       "\n",
       "    .dataframe thead th {\n",
       "        text-align: right;\n",
       "    }\n",
       "</style>\n",
       "<table border=\"1\" class=\"dataframe\">\n",
       "  <thead>\n",
       "    <tr style=\"text-align: right;\">\n",
       "      <th></th>\n",
       "      <th>Course Title</th>\n",
       "      <th>Course Description</th>\n",
       "      <th>Who this course is for</th>\n",
       "      <th>Author</th>\n",
       "      <th>Skill Level</th>\n",
       "      <th>Language</th>\n",
       "      <th>takeaway</th>\n",
       "      <th>Category</th>\n",
       "      <th>Duration</th>\n",
       "      <th>url</th>\n",
       "    </tr>\n",
       "  </thead>\n",
       "  <tbody>\n",
       "    <tr>\n",
       "      <th>0</th>\n",
       "      <td>ActiveCampaign Email Marketing &amp; Automation Co...</td>\n",
       "      <td>After 7 years of testing email marketing servi...</td>\n",
       "      <td>NaN</td>\n",
       "      <td>Jerry Banfield</td>\n",
       "      <td>NaN</td>\n",
       "      <td>English</td>\n",
       "      <td>How to use ActiveCampaign for your email marke...</td>\n",
       "      <td>Marketing,Digital Marketing,Content Marketing</td>\n",
       "      <td>121.0</td>\n",
       "      <td>https://uplyrn.com/activecampaign-email-market...</td>\n",
       "    </tr>\n",
       "    <tr>\n",
       "      <th>1</th>\n",
       "      <td>The Complete Wireshark Course: Go from Beginne...</td>\n",
       "      <td>Wireshark is much easier to learn when you tak...</td>\n",
       "      <td>NaN</td>\n",
       "      <td>Jerry Banfield</td>\n",
       "      <td>Beginner</td>\n",
       "      <td>English</td>\n",
       "      <td>NaN</td>\n",
       "      <td>Technology,Software Testing &amp; Engineering,Netw...</td>\n",
       "      <td>275.0</td>\n",
       "      <td>https://uplyrn.com/the-complete-wireshark-cour...</td>\n",
       "    </tr>\n",
       "    <tr>\n",
       "      <th>2</th>\n",
       "      <td>The Complete YouTube Course: Beginner to Advanced</td>\n",
       "      <td>If you want to be successful on YouTube, you m...</td>\n",
       "      <td>NaN</td>\n",
       "      <td>Jerry Banfield</td>\n",
       "      <td>Appropriate for all</td>\n",
       "      <td>English</td>\n",
       "      <td>NaN</td>\n",
       "      <td>Marketing,Digital Marketing,Social Media Marke...</td>\n",
       "      <td>283.0</td>\n",
       "      <td>https://uplyrn.com/the-complete-youtube-course...</td>\n",
       "    </tr>\n",
       "    <tr>\n",
       "      <th>3</th>\n",
       "      <td>The MATLAB Course for Beginners</td>\n",
       "      <td>MATLAB&amp;nbsp;is much easier to learn when you c...</td>\n",
       "      <td>NaN</td>\n",
       "      <td>Jerry Banfield</td>\n",
       "      <td>Beginner</td>\n",
       "      <td>English</td>\n",
       "      <td>NaN</td>\n",
       "      <td>Technology,Programming Languages,Database Desi...</td>\n",
       "      <td>258.0</td>\n",
       "      <td>https://uplyrn.com/the-matlab-course-for-begin...</td>\n",
       "    </tr>\n",
       "    <tr>\n",
       "      <th>4</th>\n",
       "      <td>Save Time &amp; Scale Digital Marketing with Autom...</td>\n",
       "      <td>What if you could automatically publish new Yo...</td>\n",
       "      <td>Business ownersMarketers and bloggers who want...</td>\n",
       "      <td>Jerry Banfield</td>\n",
       "      <td>Appropriate for all</td>\n",
       "      <td>English</td>\n",
       "      <td>Build an advertising program that runs itself ...</td>\n",
       "      <td>Marketing,Digital Marketing,Social Media Marke...</td>\n",
       "      <td>190.0</td>\n",
       "      <td>https://uplyrn.com/save-time-scale-digital-mar...</td>\n",
       "    </tr>\n",
       "  </tbody>\n",
       "</table>\n",
       "</div>"
      ],
      "text/plain": [
       "                                        Course Title  \\\n",
       "0  ActiveCampaign Email Marketing & Automation Co...   \n",
       "1  The Complete Wireshark Course: Go from Beginne...   \n",
       "2  The Complete YouTube Course: Beginner to Advanced   \n",
       "3                    The MATLAB Course for Beginners   \n",
       "4  Save Time & Scale Digital Marketing with Autom...   \n",
       "\n",
       "                                  Course Description  \\\n",
       "0  After 7 years of testing email marketing servi...   \n",
       "1  Wireshark is much easier to learn when you tak...   \n",
       "2  If you want to be successful on YouTube, you m...   \n",
       "3  MATLAB&nbsp;is much easier to learn when you c...   \n",
       "4  What if you could automatically publish new Yo...   \n",
       "\n",
       "                              Who this course is for          Author  \\\n",
       "0                                                NaN  Jerry Banfield   \n",
       "1                                                NaN  Jerry Banfield   \n",
       "2                                                NaN  Jerry Banfield   \n",
       "3                                                NaN  Jerry Banfield   \n",
       "4  Business ownersMarketers and bloggers who want...  Jerry Banfield   \n",
       "\n",
       "           Skill Level Language  \\\n",
       "0                  NaN  English   \n",
       "1             Beginner  English   \n",
       "2  Appropriate for all  English   \n",
       "3             Beginner  English   \n",
       "4  Appropriate for all  English   \n",
       "\n",
       "                                            takeaway  \\\n",
       "0  How to use ActiveCampaign for your email marke...   \n",
       "1                                                NaN   \n",
       "2                                                NaN   \n",
       "3                                                NaN   \n",
       "4  Build an advertising program that runs itself ...   \n",
       "\n",
       "                                            Category  Duration  \\\n",
       "0      Marketing,Digital Marketing,Content Marketing     121.0   \n",
       "1  Technology,Software Testing & Engineering,Netw...     275.0   \n",
       "2  Marketing,Digital Marketing,Social Media Marke...     283.0   \n",
       "3  Technology,Programming Languages,Database Desi...     258.0   \n",
       "4  Marketing,Digital Marketing,Social Media Marke...     190.0   \n",
       "\n",
       "                                                 url  \n",
       "0  https://uplyrn.com/activecampaign-email-market...  \n",
       "1  https://uplyrn.com/the-complete-wireshark-cour...  \n",
       "2  https://uplyrn.com/the-complete-youtube-course...  \n",
       "3  https://uplyrn.com/the-matlab-course-for-begin...  \n",
       "4  https://uplyrn.com/save-time-scale-digital-mar...  "
      ]
     },
     "execution_count": 16,
     "metadata": {},
     "output_type": "execute_result"
    }
   ],
   "source": [
    "df.head()\n"
   ]
  },
  {
   "cell_type": "code",
   "execution_count": 17,
   "metadata": {},
   "outputs": [
    {
     "name": "stderr",
     "output_type": "stream",
     "text": [
      "C:\\Users\\Admin\\AppData\\Local\\Temp\\ipykernel_7368\\2911361896.py:1: FutureWarning: A value is trying to be set on a copy of a DataFrame or Series through chained assignment using an inplace method.\n",
      "The behavior will change in pandas 3.0. This inplace method will never work because the intermediate object on which we are setting values always behaves as a copy.\n",
      "\n",
      "For example, when doing 'df[col].method(value, inplace=True)', try using 'df.method({col: value}, inplace=True)' or df[col] = df[col].method(value) instead, to perform the operation inplace on the original object.\n",
      "\n",
      "\n",
      "  df['Duration'].fillna(df['Duration'].mean(), inplace=True)\n"
     ]
    }
   ],
   "source": [
    "df['Duration'].fillna(df['Duration'].mean(), inplace=True)"
   ]
  },
  {
   "cell_type": "code",
   "execution_count": 19,
   "metadata": {},
   "outputs": [],
   "source": [
    "df.dropna(subset=['Category'], inplace=True)"
   ]
  },
  {
   "cell_type": "code",
   "execution_count": 20,
   "metadata": {},
   "outputs": [],
   "source": [
    "df.drop('Who this course is for',axis=1,inplace=True)"
   ]
  },
  {
   "cell_type": "code",
   "execution_count": 21,
   "metadata": {},
   "outputs": [],
   "source": [
    "df['Skill Level'] = df['Skill Level'].fillna('Appropriate for all')"
   ]
  },
  {
   "cell_type": "code",
   "execution_count": 22,
   "metadata": {},
   "outputs": [],
   "source": [
    "df.drop('takeaway',axis=1,inplace=True)"
   ]
  },
  {
   "cell_type": "code",
   "execution_count": 24,
   "metadata": {},
   "outputs": [
    {
     "data": {
      "text/plain": [
       "Course Title          0\n",
       "Course Description    0\n",
       "Author                0\n",
       "Skill Level           0\n",
       "Language              0\n",
       "Category              0\n",
       "Duration              0\n",
       "url                   0\n",
       "dtype: int64"
      ]
     },
     "execution_count": 24,
     "metadata": {},
     "output_type": "execute_result"
    }
   ],
   "source": [
    "df.isnull().sum()"
   ]
  },
  {
   "cell_type": "markdown",
   "metadata": {},
   "source": [
    "df.isnull().sum()"
   ]
  },
  {
   "cell_type": "code",
   "execution_count": 25,
   "metadata": {},
   "outputs": [
    {
     "data": {
      "text/plain": [
       "0      ActiveCampaign Email Marketing & Automation Co...\n",
       "1      The Complete Wireshark Course: Go from Beginne...\n",
       "2      The Complete YouTube Course: Beginner to Advanced\n",
       "3                        The MATLAB Course for Beginners\n",
       "4      Save Time & Scale Digital Marketing with Autom...\n",
       "                             ...                        \n",
       "918    WordPress Elementor Pro Course: Master Web Des...\n",
       "919    Figma Design: A Must-Learn Tool for UI UX Desi...\n",
       "920    Data Structures and Algorithms in Java: A Deta...\n",
       "921    The Art of Communication: A Class to Improve Y...\n",
       "922    Value Investing: Key Strategies to Grow Your W...\n",
       "Name: Course Title, Length: 921, dtype: object"
      ]
     },
     "execution_count": 25,
     "metadata": {},
     "output_type": "execute_result"
    }
   ],
   "source": [
    "df['Course Title']"
   ]
  },
  {
   "cell_type": "code",
   "execution_count": 26,
   "metadata": {},
   "outputs": [],
   "source": [
    "df['Course Title']=df['Course Title'].apply(nfx.remove_stopwords)"
   ]
  },
  {
   "cell_type": "code",
   "execution_count": 27,
   "metadata": {},
   "outputs": [],
   "source": [
    "df['Course Title']=df['Course Title'].apply(nfx.remove_special_characters)"
   ]
  },
  {
   "cell_type": "code",
   "execution_count": 28,
   "metadata": {},
   "outputs": [
    {
     "data": {
      "text/html": [
       "<div>\n",
       "<style scoped>\n",
       "    .dataframe tbody tr th:only-of-type {\n",
       "        vertical-align: middle;\n",
       "    }\n",
       "\n",
       "    .dataframe tbody tr th {\n",
       "        vertical-align: top;\n",
       "    }\n",
       "\n",
       "    .dataframe thead th {\n",
       "        text-align: right;\n",
       "    }\n",
       "</style>\n",
       "<table border=\"1\" class=\"dataframe\">\n",
       "  <thead>\n",
       "    <tr style=\"text-align: right;\">\n",
       "      <th></th>\n",
       "      <th>Course Title</th>\n",
       "      <th>Course Description</th>\n",
       "      <th>Author</th>\n",
       "      <th>Skill Level</th>\n",
       "      <th>Language</th>\n",
       "      <th>Category</th>\n",
       "      <th>Duration</th>\n",
       "      <th>url</th>\n",
       "    </tr>\n",
       "  </thead>\n",
       "  <tbody>\n",
       "    <tr>\n",
       "      <th>0</th>\n",
       "      <td>ActiveCampaign Email Marketing  Automation Course</td>\n",
       "      <td>After 7 years of testing email marketing servi...</td>\n",
       "      <td>Jerry Banfield</td>\n",
       "      <td>Appropriate for all</td>\n",
       "      <td>English</td>\n",
       "      <td>Marketing,Digital Marketing,Content Marketing</td>\n",
       "      <td>121.0</td>\n",
       "      <td>https://uplyrn.com/activecampaign-email-market...</td>\n",
       "    </tr>\n",
       "    <tr>\n",
       "      <th>1</th>\n",
       "      <td>Complete Wireshark Course Beginner Advanced</td>\n",
       "      <td>Wireshark is much easier to learn when you tak...</td>\n",
       "      <td>Jerry Banfield</td>\n",
       "      <td>Beginner</td>\n",
       "      <td>English</td>\n",
       "      <td>Technology,Software Testing &amp; Engineering,Netw...</td>\n",
       "      <td>275.0</td>\n",
       "      <td>https://uplyrn.com/the-complete-wireshark-cour...</td>\n",
       "    </tr>\n",
       "    <tr>\n",
       "      <th>2</th>\n",
       "      <td>Complete YouTube Course Beginner Advanced</td>\n",
       "      <td>If you want to be successful on YouTube, you m...</td>\n",
       "      <td>Jerry Banfield</td>\n",
       "      <td>Appropriate for all</td>\n",
       "      <td>English</td>\n",
       "      <td>Marketing,Digital Marketing,Social Media Marke...</td>\n",
       "      <td>283.0</td>\n",
       "      <td>https://uplyrn.com/the-complete-youtube-course...</td>\n",
       "    </tr>\n",
       "    <tr>\n",
       "      <th>3</th>\n",
       "      <td>MATLAB Course Beginners</td>\n",
       "      <td>MATLAB&amp;nbsp;is much easier to learn when you c...</td>\n",
       "      <td>Jerry Banfield</td>\n",
       "      <td>Beginner</td>\n",
       "      <td>English</td>\n",
       "      <td>Technology,Programming Languages,Database Desi...</td>\n",
       "      <td>258.0</td>\n",
       "      <td>https://uplyrn.com/the-matlab-course-for-begin...</td>\n",
       "    </tr>\n",
       "    <tr>\n",
       "      <th>4</th>\n",
       "      <td>Save Time  Scale Digital Marketing Automation</td>\n",
       "      <td>What if you could automatically publish new Yo...</td>\n",
       "      <td>Jerry Banfield</td>\n",
       "      <td>Appropriate for all</td>\n",
       "      <td>English</td>\n",
       "      <td>Marketing,Digital Marketing,Social Media Marke...</td>\n",
       "      <td>190.0</td>\n",
       "      <td>https://uplyrn.com/save-time-scale-digital-mar...</td>\n",
       "    </tr>\n",
       "  </tbody>\n",
       "</table>\n",
       "</div>"
      ],
      "text/plain": [
       "                                        Course Title  \\\n",
       "0  ActiveCampaign Email Marketing  Automation Course   \n",
       "1        Complete Wireshark Course Beginner Advanced   \n",
       "2          Complete YouTube Course Beginner Advanced   \n",
       "3                            MATLAB Course Beginners   \n",
       "4      Save Time  Scale Digital Marketing Automation   \n",
       "\n",
       "                                  Course Description          Author  \\\n",
       "0  After 7 years of testing email marketing servi...  Jerry Banfield   \n",
       "1  Wireshark is much easier to learn when you tak...  Jerry Banfield   \n",
       "2  If you want to be successful on YouTube, you m...  Jerry Banfield   \n",
       "3  MATLAB&nbsp;is much easier to learn when you c...  Jerry Banfield   \n",
       "4  What if you could automatically publish new Yo...  Jerry Banfield   \n",
       "\n",
       "           Skill Level Language  \\\n",
       "0  Appropriate for all  English   \n",
       "1             Beginner  English   \n",
       "2  Appropriate for all  English   \n",
       "3             Beginner  English   \n",
       "4  Appropriate for all  English   \n",
       "\n",
       "                                            Category  Duration  \\\n",
       "0      Marketing,Digital Marketing,Content Marketing     121.0   \n",
       "1  Technology,Software Testing & Engineering,Netw...     275.0   \n",
       "2  Marketing,Digital Marketing,Social Media Marke...     283.0   \n",
       "3  Technology,Programming Languages,Database Desi...     258.0   \n",
       "4  Marketing,Digital Marketing,Social Media Marke...     190.0   \n",
       "\n",
       "                                                 url  \n",
       "0  https://uplyrn.com/activecampaign-email-market...  \n",
       "1  https://uplyrn.com/the-complete-wireshark-cour...  \n",
       "2  https://uplyrn.com/the-complete-youtube-course...  \n",
       "3  https://uplyrn.com/the-matlab-course-for-begin...  \n",
       "4  https://uplyrn.com/save-time-scale-digital-mar...  "
      ]
     },
     "execution_count": 28,
     "metadata": {},
     "output_type": "execute_result"
    }
   ],
   "source": [
    "df.head()"
   ]
  },
  {
   "cell_type": "code",
   "execution_count": 29,
   "metadata": {},
   "outputs": [],
   "source": [
    "df['combined_text'] = df['Course Title'] + ' ' + df['Course Description'] + ' ' + df['Author']"
   ]
  },
  {
   "cell_type": "code",
   "execution_count": 30,
   "metadata": {},
   "outputs": [],
   "source": [
    "df.to_csv('published_courses_update_new.csv')\n"
   ]
  },
  {
   "cell_type": "code",
   "execution_count": 31,
   "metadata": {},
   "outputs": [],
   "source": [
    "# Tokenization and stop word removal\n",
    "stop_words = set(stopwords.words('english'))"
   ]
  },
  {
   "cell_type": "code",
   "execution_count": 32,
   "metadata": {},
   "outputs": [],
   "source": [
    "def tokenize(text):\n",
    "    tokens = word_tokenize(text)\n",
    "    return [word.lower() for word in tokens if word.isalnum() and word.lower() not in stop_words]\n"
   ]
  },
  {
   "cell_type": "code",
   "execution_count": 33,
   "metadata": {},
   "outputs": [
    {
     "name": "stderr",
     "output_type": "stream",
     "text": [
      "c:\\Users\\Admin\\AppData\\Local\\Programs\\Python\\Python312\\Lib\\site-packages\\sklearn\\feature_extraction\\text.py:525: UserWarning: The parameter 'token_pattern' will not be used since 'tokenizer' is not None'\n",
      "  warnings.warn(\n"
     ]
    }
   ],
   "source": [
    "tfidf_vectorizer = TfidfVectorizer(tokenizer=tokenize, max_features=5000)\n",
    "tfidf_matrix = tfidf_vectorizer.fit_transform(df['combined_text'])"
   ]
  },
  {
   "cell_type": "code",
   "execution_count": 35,
   "metadata": {},
   "outputs": [],
   "source": [
    "def recommend_courses(keyword, num_recommendations=5):\n",
    "    keyword_vector = tfidf_vectorizer.transform([keyword])\n",
    "    cosine_similarities = cosine_similarity(keyword_vector, tfidf_matrix).flatten()\n",
    "    related_course_indices = cosine_similarities.argsort()[::-1][:num_recommendations]\n",
    "    recommended_courses = df.iloc[related_course_indices][['url']]\n",
    "    return recommended_courses"
   ]
  },
  {
   "cell_type": "code",
   "execution_count": 36,
   "metadata": {},
   "outputs": [
    {
     "name": "stdout",
     "output_type": "stream",
     "text": [
      "                                                   url\n",
      "315  https://uplyrn.com/the-art-of-relaxation-yoga-...\n",
      "416  https://uplyrn.com/how-to-find-the-right-type-...\n",
      "415  https://uplyrn.com/a-beginners-guide-to-happiness\n",
      "394  https://uplyrn.com/meditation-series-for-stren...\n",
      "310  https://uplyrn.com/how-to-win-any-argument-the...\n"
     ]
    }
   ],
   "source": [
    "keyword = \"Yoga\"\n",
    "recommended_courses = recommend_courses(keyword)\n",
    "print(recommended_courses)\n"
   ]
  },
  {
   "cell_type": "code",
   "execution_count": 40,
   "metadata": {},
   "outputs": [],
   "source": [
    "import pickle\n",
    "with open('vectorizer.pkl', 'wb') as f:\n",
    "    pickle.dump(tfidf_vectorizer, f)\n",
    "with open('matrix.pkl', 'wb') as f:\n",
    "    pickle.dump(tfidf_matrix, f)\n",
    "\n",
    "# Save recommend_courses function\n",
    "with open('recommend_courses.pkl', 'wb') as f:\n",
    "    pickle.dump(recommend_courses, f)"
   ]
  },
  {
   "cell_type": "code",
   "execution_count": 41,
   "metadata": {},
   "outputs": [
    {
     "ename": "TypeError",
     "evalue": "cannot unpack non-iterable function object",
     "output_type": "error",
     "traceback": [
      "\u001b[1;31m---------------------------------------------------------------------------\u001b[0m",
      "\u001b[1;31mTypeError\u001b[0m                                 Traceback (most recent call last)",
      "Cell \u001b[1;32mIn[41], line 2\u001b[0m\n\u001b[0;32m      1\u001b[0m \u001b[38;5;28;01mwith\u001b[39;00m \u001b[38;5;28mopen\u001b[39m(\u001b[38;5;124m'\u001b[39m\u001b[38;5;124mrecommend_courses.pkl\u001b[39m\u001b[38;5;124m'\u001b[39m, \u001b[38;5;124m'\u001b[39m\u001b[38;5;124mrb\u001b[39m\u001b[38;5;124m'\u001b[39m) \u001b[38;5;28;01mas\u001b[39;00m f:\n\u001b[1;32m----> 2\u001b[0m     r ,e\u001b[38;5;241m=\u001b[39m pickle\u001b[38;5;241m.\u001b[39mload(f)\n\u001b[0;32m      3\u001b[0m \u001b[38;5;28mprint\u001b[39m(e)\n",
      "\u001b[1;31mTypeError\u001b[0m: cannot unpack non-iterable function object"
     ]
    }
   ],
   "source": [
    "with open('recommend_courses.pkl', 'rb') as f:\n",
    "    r ,e= pickle.load(f)\n",
    "print(e)"
   ]
  },
  {
   "cell_type": "code",
   "execution_count": 86,
   "metadata": {},
   "outputs": [
    {
     "ename": "TypeError",
     "evalue": "'DataFrame' object is not callable",
     "output_type": "error",
     "traceback": [
      "\u001b[1;31m---------------------------------------------------------------------------\u001b[0m",
      "\u001b[1;31mTypeError\u001b[0m                                 Traceback (most recent call last)",
      "Cell \u001b[1;32mIn[86], line 2\u001b[0m\n\u001b[0;32m      1\u001b[0m keyword \u001b[38;5;241m=\u001b[39m \u001b[38;5;124m\"\u001b[39m\u001b[38;5;124mYoga\u001b[39m\u001b[38;5;124m\"\u001b[39m\n\u001b[1;32m----> 2\u001b[0m recommended_courses \u001b[38;5;241m=\u001b[39m \u001b[43mr\u001b[49m\u001b[43m(\u001b[49m\u001b[43mkeyword\u001b[49m\u001b[43m)\u001b[49m\n\u001b[0;32m      3\u001b[0m \u001b[38;5;28mprint\u001b[39m(recommended_courses)\n",
      "\u001b[1;31mTypeError\u001b[0m: 'DataFrame' object is not callable"
     ]
    }
   ],
   "source": [
    "keyword = \"Yoga\"\n",
    "recommended_courses = r(keyword)\n",
    "print(recommended_courses)"
   ]
  }
 ],
 "metadata": {
  "kernelspec": {
   "display_name": "base",
   "language": "python",
   "name": "python3"
  },
  "language_info": {
   "codemirror_mode": {
    "name": "ipython",
    "version": 3
   },
   "file_extension": ".py",
   "mimetype": "text/x-python",
   "name": "python",
   "nbconvert_exporter": "python",
   "pygments_lexer": "ipython3",
   "version": "3.12.3"
  }
 },
 "nbformat": 4,
 "nbformat_minor": 2
}
